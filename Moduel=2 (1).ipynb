{
 "cells": [
  {
   "cell_type": "code",
   "execution_count": 5,
   "id": "c625b375",
   "metadata": {},
   "outputs": [
    {
     "name": "stdout",
     "output_type": "stream",
     "text": [
      "-8\n",
      "given number is negative\n"
     ]
    }
   ],
   "source": [
    "#ans1\n",
    "b=int(input())\n",
    "if b==0:\n",
    "    print('given number is zero')  \n",
    "elif b>0:\n",
    "    print('given number is positive')\n",
    "elif b<0:\n",
    "    print('given number is negative')"
   ]
  },
  {
   "cell_type": "code",
   "execution_count": null,
   "id": "5d7b5bdb",
   "metadata": {},
   "outputs": [],
   "source": [
    "#2"
   ]
  },
  {
   "cell_type": "code",
   "execution_count": null,
   "id": "d77d286d",
   "metadata": {},
   "outputs": [],
   "source": [
    "#3"
   ]
  },
  {
   "cell_type": "code",
   "execution_count": null,
   "id": "10d4e4c0",
   "metadata": {},
   "outputs": [],
   "source": [
    "#4"
   ]
  },
  {
   "cell_type": "code",
   "execution_count": null,
   "id": "e7ca20fc",
   "metadata": {},
   "outputs": [],
   "source": [
    "#5\n",
    "dikshita=int(input())\n",
    "sonali =int(input())\n",
    "sonali,dikshita =dikshita ,sonali \n",
    "print(dikshita)\n",
    "print(sonali)"
   ]
  },
  {
   "cell_type": "code",
   "execution_count": 9,
   "id": "6e018229",
   "metadata": {},
   "outputs": [
    {
     "name": "stdout",
     "output_type": "stream",
     "text": [
      "enter the number4\n",
      "number is even\n"
     ]
    }
   ],
   "source": [
    "#6\n",
    "num = int(input(\"enter the number\"))\n",
    "if num%2 ==  0:\n",
    "    print('number is even')\n",
    "else:\n",
    "    print('number is odd')"
   ]
  },
  {
   "cell_type": "code",
   "execution_count": 13,
   "id": "949f54e3",
   "metadata": {},
   "outputs": [
    {
     "name": "stdout",
     "output_type": "stream",
     "text": [
      "enter the letter:u\n",
      "the given letter is vowel:\n"
     ]
    }
   ],
   "source": [
    "#7\n",
    "vowel = (\"a\",\"e\",\"i\",\"o\",\"u\")\n",
    "letter = input(\"enter the letter:\")\n",
    "if (letter in vowel):\n",
    "    print(\"the given letter is vowel\")\n",
    "else:\n",
    "    print(\"the given letter is not vowel\")"
   ]
  },
  {
   "cell_type": "code",
   "execution_count": null,
   "id": "4f630860",
   "metadata": {},
   "outputs": [],
   "source": [
    "#8"
   ]
  },
  {
   "cell_type": "code",
   "execution_count": 20,
   "id": "e74d9643",
   "metadata": {},
   "outputs": [
    {
     "name": "stdout",
     "output_type": "stream",
     "text": [
      "enter the value1:15\n",
      "enter the value2:10\n",
      "true\n"
     ]
    }
   ],
   "source": [
    "#9\n",
    "a = int(input(\"enter the value1:\"))\n",
    "b = int(input(\"enter the value2:\"))\n",
    "if (a==b or a+b==5 or a-b==5):\n",
    "    print(\"true\")\n",
    "else:\n",
    "    print(\"false\")"
   ]
  },
  {
   "cell_type": "code",
   "execution_count": 22,
   "id": "cb948d3b",
   "metadata": {},
   "outputs": [
    {
     "name": "stdout",
     "output_type": "stream",
     "text": [
      "10\n",
      "55\n"
     ]
    }
   ],
   "source": [
    "#10\n",
    "p=int(input())\n",
    "q = p+1\n",
    "r=q/2\n",
    "s=r*p\n",
    "t=int(s)\n",
    "print(t)"
   ]
  },
  {
   "cell_type": "code",
   "execution_count": 35,
   "id": "5e23bb12",
   "metadata": {},
   "outputs": [
    {
     "name": "stdout",
     "output_type": "stream",
     "text": [
      "milypatel\n",
      "9\n"
     ]
    }
   ],
   "source": [
    "#11\n",
    "l1 = input()\n",
    "print(len(l1))"
   ]
  },
  {
   "cell_type": "code",
   "execution_count": 1,
   "id": "323c4a10",
   "metadata": {},
   "outputs": [
    {
     "data": {
      "text/plain": [
       "4"
      ]
     },
     "execution_count": 1,
     "metadata": {},
     "output_type": "execute_result"
    }
   ],
   "source": [
    "#ans=12\n",
    "var1= 'mily'\n",
    "len(var1)"
   ]
  },
  {
   "cell_type": "code",
   "execution_count": 5,
   "id": "5985a1a6",
   "metadata": {},
   "outputs": [
    {
     "data": {
      "text/plain": [
       "2"
      ]
     },
     "execution_count": 5,
     "metadata": {},
     "output_type": "execute_result"
    }
   ],
   "source": [
    "#ans=13\n",
    "a= 'frequency'\n",
    "a.count('e')"
   ]
  },
  {
   "cell_type": "code",
   "execution_count": null,
   "id": "98ca4538",
   "metadata": {},
   "outputs": [],
   "source": [
    "#ans=14\n",
    "#NEGATIVE INDEX: negative index means begging from the end, -1 refers to the last character .\n",
    "#-2 refers to the secount character."
   ]
  },
  {
   "cell_type": "code",
   "execution_count": 4,
   "id": "1070f74f",
   "metadata": {},
   "outputs": [
    {
     "name": "stdout",
     "output_type": "stream",
     "text": [
      "3\n"
     ]
    }
   ],
   "source": [
    "#ans=15\n",
    "str1='Python is a high-level, general-purpose programming language.'\n",
    "str2=str1.count('i')\n",
    "print(str2)"
   ]
  },
  {
   "cell_type": "code",
   "execution_count": 3,
   "id": "38156e2b",
   "metadata": {},
   "outputs": [
    {
     "name": "stdout",
     "output_type": "stream",
     "text": [
      "2\n"
     ]
    }
   ],
   "source": [
    "#ans=16\n",
    "\n",
    "a= 'That girl is very cleaver. she is very good.'\n",
    "sub_string= a.count('is')\n",
    "print(sub_string)"
   ]
  },
  {
   "cell_type": "code",
   "execution_count": 2,
   "id": "3e882bbe",
   "metadata": {},
   "outputs": [
    {
     "name": "stdout",
     "output_type": "stream",
     "text": [
      "prrupreet\n",
      "gueet\n",
      "preet prrupreet\n"
     ]
    }
   ],
   "source": [
    "#ans=17\n",
    "var3='preet'\n",
    "var4='gurupreet'\n",
    "str3=var3[0:2]+var4[2:]\n",
    "print(str3)\n",
    "str4=var4[0:2]+var3[2:]\n",
    "print(str4)\n",
    "str5=var3+\" \"+ str3\n",
    "print(str5)"
   ]
  },
  {
   "cell_type": "code",
   "execution_count": null,
   "id": "86677f17",
   "metadata": {},
   "outputs": [],
   "source": []
  },
  {
   "cell_type": "code",
   "execution_count": null,
   "id": "24206181",
   "metadata": {},
   "outputs": [],
   "source": []
  }
 ],
 "metadata": {
  "kernelspec": {
   "display_name": "Python 3 (ipykernel)",
   "language": "python",
   "name": "python3"
  },
  "language_info": {
   "codemirror_mode": {
    "name": "ipython",
    "version": 3
   },
   "file_extension": ".py",
   "mimetype": "text/x-python",
   "name": "python",
   "nbconvert_exporter": "python",
   "pygments_lexer": "ipython3",
   "version": "3.9.13"
  }
 },
 "nbformat": 4,
 "nbformat_minor": 5
}
