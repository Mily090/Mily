{
 "cells": [
  {
   "cell_type": "code",
   "execution_count": 5,
   "id": "c625b375",
   "metadata": {},
   "outputs": [
    {
     "name": "stdout",
     "output_type": "stream",
     "text": [
      "-8\n",
      "given number is negative\n"
     ]
    }
   ],
   "source": [
    "#ans1\n",
    "a=int(input())\n",
    "if a==0:\n",
    "    print('given number is zero')  \n",
    "elif a>0:\n",
    "    print('given number is positive')\n",
    "elif a<0:\n",
    "    print('given number is negative')"
   ]
  },
  {
   "cell_type": "code",
   "execution_count": null,
   "id": "5d7b5bdb",
   "metadata": {},
   "outputs": [],
   "source": [
    "#2"
   ]
  },
  {
   "cell_type": "code",
   "execution_count": null,
   "id": "d77d286d",
   "metadata": {},
   "outputs": [],
   "source": [
    "#3"
   ]
  },
  {
   "cell_type": "code",
   "execution_count": null,
   "id": "10d4e4c0",
   "metadata": {},
   "outputs": [],
   "source": [
    "#4"
   ]
  },
  {
   "cell_type": "code",
   "execution_count": 25,
   "id": "e7ca20fc",
   "metadata": {},
   "outputs": [
    {
     "name": "stdout",
     "output_type": "stream",
     "text": [
      "20\n",
      "10\n",
      "price of Chocolate is 10\n",
      "price of marshmallow is 20\n"
     ]
    }
   ],
   "source": [
    "#5\n",
    "Chocolate=int(input())\n",
    "Marshmallow =int(input())\n",
    "Chocolate,Marshmallow =Marshmallow ,Chocolate \n",
    "print(\"price of Chocolate is\", Chocolate)\n",
    "print(\"price of marshmallow is\", Marshmallow)"
   ]
  },
  {
   "cell_type": "code",
   "execution_count": 9,
   "id": "6e018229",
   "metadata": {},
   "outputs": [
    {
     "name": "stdout",
     "output_type": "stream",
     "text": [
      "enter the number4\n",
      "number is even\n"
     ]
    }
   ],
   "source": [
    "#6\n",
    "num = int(input(\"enter the number\"))\n",
    "if num%2 ==  0:\n",
    "    print('number is even')\n",
    "else:\n",
    "    print('number is odd')"
   ]
  },
  {
   "cell_type": "code",
   "execution_count": 13,
   "id": "949f54e3",
   "metadata": {},
   "outputs": [
    {
     "name": "stdout",
     "output_type": "stream",
     "text": [
      "enter the letter:u\n",
      "the given letter is vowel:\n"
     ]
    }
   ],
   "source": [
    "#7\n",
    "vowel = (\"a\",\"e\",\"i\",\"o\",\"u\")\n",
    "letter = input(\"enter the letter:\")\n",
    "if (letter in vowel):\n",
    "    print(\"the given letter is vowel\")\n",
    "else:\n",
    "    print(\"the given letter is not vowel\")"
   ]
  },
  {
   "cell_type": "code",
   "execution_count": null,
   "id": "4f630860",
   "metadata": {},
   "outputs": [],
   "source": [
    "#8"
   ]
  },
  {
   "cell_type": "code",
   "execution_count": 20,
   "id": "e74d9643",
   "metadata": {},
   "outputs": [
    {
     "name": "stdout",
     "output_type": "stream",
     "text": [
      "enter the value1:15\n",
      "enter the value2:10\n",
      "true\n"
     ]
    }
   ],
   "source": [
    "#9\n",
    "a = int(input(\"enter the value1:\"))\n",
    "b = int(input(\"enter the value2:\"))\n",
    "if (a==b or a+b==5 or a-b==5):\n",
    "    print(\"true\")\n",
    "else:\n",
    "    print(\"false\")"
   ]
  },
  {
   "cell_type": "code",
   "execution_count": 22,
   "id": "cb948d3b",
   "metadata": {},
   "outputs": [
    {
     "name": "stdout",
     "output_type": "stream",
     "text": [
      "10\n",
      "55\n"
     ]
    }
   ],
   "source": [
    "#10\n",
    "p=int(input())\n",
    "q = p+1\n",
    "r=q/2\n",
    "s=r*p\n",
    "t=int(s)\n",
    "print(t)"
   ]
  },
  {
   "cell_type": "code",
   "execution_count": 35,
   "id": "5e23bb12",
   "metadata": {},
   "outputs": [
    {
     "name": "stdout",
     "output_type": "stream",
     "text": [
      "milypatel\n",
      "9\n"
     ]
    }
   ],
   "source": [
    "#11\n",
    "l1 = input()\n",
    "print(len(l1))"
   ]
  },
  {
   "cell_type": "code",
   "execution_count": null,
   "id": "323c4a10",
   "metadata": {},
   "outputs": [],
   "source": []
  }
 ],
 "metadata": {
  "kernelspec": {
   "display_name": "Python 3 (ipykernel)",
   "language": "python",
   "name": "python3"
  },
  "language_info": {
   "codemirror_mode": {
    "name": "ipython",
    "version": 3
   },
   "file_extension": ".py",
   "mimetype": "text/x-python",
   "name": "python",
   "nbconvert_exporter": "python",
   "pygments_lexer": "ipython3",
   "version": "3.9.13"
  }
 },
 "nbformat": 4,
 "nbformat_minor": 5
}
