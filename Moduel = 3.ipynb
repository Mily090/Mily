{
 "cells": [
  {
   "cell_type": "code",
   "execution_count": null,
   "id": "592440b2",
   "metadata": {},
   "outputs": [],
   "source": [
    "#ans=1\n",
    "#list is one of the data type in python.list is used to store multiple items in a single variable.\n",
    "# it is be denoted by square bracket.\n",
    "#list can be reversed by using the method called . \"reverse()\""
   ]
  },
  {
   "cell_type": "code",
   "execution_count": 1,
   "id": "876517b0",
   "metadata": {},
   "outputs": [
    {
     "data": {
      "text/plain": [
       "25"
      ]
     },
     "execution_count": 1,
     "metadata": {},
     "output_type": "execute_result"
    }
   ],
   "source": [
    "# ans= 2\n",
    "# last object from the list can be removed by using .\"pop()\" method.\n",
    "A= [2,33,222,14,25]\n",
    "A[-1]"
   ]
  },
  {
   "cell_type": "code",
   "execution_count": 2,
   "id": "97a18708",
   "metadata": {},
   "outputs": [
    {
     "name": "stdout",
     "output_type": "stream",
     "text": [
      "[1, 2, 3, 'mily']\n",
      "[4, 5, 6, 'm', 'i', 'l', 'y']\n"
     ]
    }
   ],
   "source": [
    "#ans=3\n",
    "# DIFFERENCE BETWEEN APPEND AND EXTEND\n",
    "B=[1,2,3]\n",
    "c=[4,5,6]\n",
    "B.append('mily')\n",
    "c.extend('mily')\n",
    "print(B)\n",
    "print(c)"
   ]
  },
  {
   "cell_type": "code",
   "execution_count": 3,
   "id": "cdf019b5",
   "metadata": {},
   "outputs": [
    {
     "name": "stdout",
     "output_type": "stream",
     "text": [
      "max value= 9\n",
      "minimum value= 4\n"
     ]
    }
   ],
   "source": [
    "#ans=4\n",
    "var1=[4,9,6,8]\n",
    "var1.sort()\n",
    "print('max value=', var1[-1])\n",
    "print('minimum value=', var1[0])"
   ]
  },
  {
   "cell_type": "code",
   "execution_count": 4,
   "id": "6e7ad5df",
   "metadata": {},
   "outputs": [
    {
     "name": "stdout",
     "output_type": "stream",
     "text": [
      "false\n"
     ]
    }
   ],
   "source": [
    "#ans=5\n",
    "list3=[12,56,87,90]\n",
    "list4=[12,58,78,90]\n",
    "if list3 == list4:\n",
    "    print('true')\n",
    "else:\n",
    "    print('false')\n",
    "    \n",
    "\n"
   ]
  },
  {
   "cell_type": "code",
   "execution_count": 5,
   "id": "9741ffbf",
   "metadata": {},
   "outputs": [
    {
     "name": "stdout",
     "output_type": "stream",
     "text": [
      "deed\n",
      "bob\n"
     ]
    }
   ],
   "source": [
    "#ans = 6\n",
    "l1=['krina','deed', 'bob']\n",
    "for i in l1:\n",
    "    if len(i)>= 2 and i[0]== i[-1]:\n",
    "        print(i)"
   ]
  },
  {
   "cell_type": "code",
   "execution_count": 6,
   "id": "0c9f7a25",
   "metadata": {},
   "outputs": [
    {
     "data": {
      "text/plain": [
       "[2, 3, 4, 6]"
      ]
     },
     "execution_count": 6,
     "metadata": {},
     "output_type": "execute_result"
    }
   ],
   "source": [
    "#ans= 7\n",
    "list1=[2,3,4,6,4,2]\n",
    "a=set(list1)\n",
    "list(a)"
   ]
  },
  {
   "cell_type": "code",
   "execution_count": 7,
   "id": "b7f14bef",
   "metadata": {},
   "outputs": [
    {
     "name": "stdout",
     "output_type": "stream",
     "text": [
      "false\n"
     ]
    }
   ],
   "source": [
    "#ans=8\n",
    "list3=[1,2,3]\n",
    "if len(list3)==0:\n",
    "    print('true')\n",
    "else:\n",
    "    print('false')"
   ]
  },
  {
   "cell_type": "code",
   "execution_count": 8,
   "id": "cb8ba1d0",
   "metadata": {},
   "outputs": [
    {
     "name": "stdout",
     "output_type": "stream",
     "text": [
      "true\n",
      "true\n"
     ]
    }
   ],
   "source": [
    "#ans=9\n",
    "list4=[4,5,6,7]\n",
    "list5=[6,7,8,9]\n",
    "for i in list4:\n",
    "    for j in list5:\n",
    "        if i == j:\n",
    "            print('true')"
   ]
  },
  {
   "cell_type": "code",
   "execution_count": 9,
   "id": "b2c3829f",
   "metadata": {},
   "outputs": [
    {
     "name": "stdout",
     "output_type": "stream",
     "text": [
      "[1, 4, 9, 16, 25, 625, 676, 729, 784, 841, 900]\n"
     ]
    }
   ],
   "source": [
    "#ans=10\n",
    "list6=[]\n",
    "for i in range(1,31):\n",
    "    if i <=5 or (i<=30 and i>=25):\n",
    "        list6.append(i*i)\n",
    "        \n",
    "print(list6)"
   ]
  },
  {
   "cell_type": "code",
   "execution_count": 15,
   "id": "a54cd3c2",
   "metadata": {},
   "outputs": [],
   "source": [
    "#ans=11\n"
   ]
  },
  {
   "cell_type": "code",
   "execution_count": 11,
   "id": "c5df9b6d",
   "metadata": {},
   "outputs": [
    {
     "data": {
      "text/plain": [
       "'2 34 mily 5 krina'"
      ]
     },
     "execution_count": 11,
     "metadata": {},
     "output_type": "execute_result"
    }
   ],
   "source": [
    "#ans=12\n",
    "list9=['2','34','mily','5','krina']\n",
    "' '.join(list9)"
   ]
  },
  {
   "cell_type": "code",
   "execution_count": null,
   "id": "71a55177",
   "metadata": {},
   "outputs": [],
   "source": [
    "#ans=13"
   ]
  },
  {
   "cell_type": "code",
   "execution_count": 12,
   "id": "9d61d957",
   "metadata": {},
   "outputs": [
    {
     "name": "stdout",
     "output_type": "stream",
     "text": [
      "4\n"
     ]
    }
   ],
   "source": [
    "#ans=14\n",
    "list10=[2,4,7,9]\n",
    "list10.sort()\n",
    "list12=list10[1]\n",
    "print(list12)"
   ]
  },
  {
   "cell_type": "code",
   "execution_count": 16,
   "id": "e09bc3dd",
   "metadata": {},
   "outputs": [
    {
     "data": {
      "text/plain": [
       "[1, 2, 3, 4, 66, 7, 9, 55, 88]"
      ]
     },
     "execution_count": 16,
     "metadata": {},
     "output_type": "execute_result"
    }
   ],
   "source": [
    "#ans=15\n",
    "var5 = [1,2,3,4,55,66,7,88,9,9,4,3]\n",
    "var5 = set(var5)\n",
    "list(var5)\n",
    "\n"
   ]
  },
  {
   "cell_type": "code",
   "execution_count": 17,
   "id": "38dbbf39",
   "metadata": {},
   "outputs": [
    {
     "name": "stdout",
     "output_type": "stream",
     "text": [
      "true\n"
     ]
    }
   ],
   "source": [
    "#ans=16\n",
    "list13=[1,4,5,[1,2],8]\n",
    "list14=[1,2]\n",
    "if list14 in list13:\n",
    "    print('true')\n",
    "else:\n",
    "    print('false')"
   ]
  },
  {
   "cell_type": "code",
   "execution_count": 18,
   "id": "800bb087",
   "metadata": {},
   "outputs": [
    {
     "name": "stdout",
     "output_type": "stream",
     "text": [
      "[2, 3, 4]\n",
      "[4, 5, 6]\n"
     ]
    }
   ],
   "source": [
    "#ans=17\n",
    "list15,list16=[[2,3,4],[4,5,6]]\n",
    "print(list15)\n",
    "print(list16)"
   ]
  },
  {
   "cell_type": "code",
   "execution_count": null,
   "id": "82dcccab",
   "metadata": {},
   "outputs": [],
   "source": [
    "#ans=18\n",
    "#tuple                \n",
    "#immutable datatype    \n",
    "#represent by ()       \n",
    "#we can use as keys for dictionary          \n",
    "\n",
    "#list\n",
    "#mutable datatype\n",
    "#represent by []\n",
    "#we can not use as keys for dictionary"
   ]
  },
  {
   "cell_type": "code",
   "execution_count": 19,
   "id": "c96df7ec",
   "metadata": {},
   "outputs": [
    {
     "name": "stdout",
     "output_type": "stream",
     "text": [
      "(1, 2, 0.2, 'krina', {1, 2, 3}, True, False, [12, 15], {1, 2, 4}, {1: 2, 2: 3})\n"
     ]
    }
   ],
   "source": [
    "#ans=19\n",
    "tuple1=[1,2,0.2,'krina',{1,2,3},True,False,[12,15],{1,2,4},{1:2,2:3}]\n",
    "tuple2=tuple(tuple1)\n",
    "print(tuple2)"
   ]
  },
  {
   "cell_type": "code",
   "execution_count": 20,
   "id": "16ee1a4a",
   "metadata": {},
   "outputs": [
    {
     "name": "stdout",
     "output_type": "stream",
     "text": [
      "(1, 2, 4, 7)\n"
     ]
    }
   ],
   "source": [
    "#ans=20\n",
    "tuple3=[1,2,4,7]\n",
    "tuple4= tuple(tuple3)\n",
    "print(tuple4)"
   ]
  },
  {
   "cell_type": "code",
   "execution_count": 21,
   "id": "de0b1aa4",
   "metadata": {},
   "outputs": [
    {
     "data": {
      "text/plain": [
       "'krinamilysonali'"
      ]
     },
     "execution_count": 21,
     "metadata": {},
     "output_type": "execute_result"
    }
   ],
   "source": [
    "#ans=21\n",
    "tuple5=('krina','mily','sonali')\n",
    "''.join(tuple5)"
   ]
  },
  {
   "cell_type": "code",
   "execution_count": 22,
   "id": "a72a02fd",
   "metadata": {},
   "outputs": [
    {
     "name": "stdout",
     "output_type": "stream",
     "text": [
      "no\n"
     ]
    }
   ],
   "source": [
    "#ans=22\n",
    "tuple6=(4,5,6,7,8)\n",
    "tuple7=(8,9,20)\n",
    "if tuple7 in tuple6:\n",
    "    print('yes')\n",
    "else:\n",
    "    print('no')"
   ]
  },
  {
   "cell_type": "code",
   "execution_count": 23,
   "id": "effef96e",
   "metadata": {},
   "outputs": [
    {
     "data": {
      "text/plain": [
       "7"
      ]
     },
     "execution_count": 23,
     "metadata": {},
     "output_type": "execute_result"
    }
   ],
   "source": [
    "#ans=23\n",
    "tuple8=(1,3,4,4,6.4,7,9)\n",
    "len(tuple8)"
   ]
  },
  {
   "cell_type": "code",
   "execution_count": 24,
   "id": "7b3dc4be",
   "metadata": {},
   "outputs": [
    {
     "name": "stdout",
     "output_type": "stream",
     "text": [
      "(2, 3, 4, 6)\n"
     ]
    }
   ],
   "source": [
    "#ans=24\n",
    "list20=[2,3,4,6]\n",
    "tuple11=tuple(list20)\n",
    "print(tuple11)"
   ]
  },
  {
   "cell_type": "code",
   "execution_count": 25,
   "id": "079ecf22",
   "metadata": {},
   "outputs": [
    {
     "name": "stdout",
     "output_type": "stream",
     "text": [
      "(8, 5, 9, 6, 2)\n"
     ]
    }
   ],
   "source": [
    "#ans=25\n",
    "tuple9=(2,6,9,5,8)\n",
    "tuple10= tuple9[::-1]\n",
    "print(tuple10)"
   ]
  },
  {
   "cell_type": "code",
   "execution_count": 26,
   "id": "ddcfcdc7",
   "metadata": {},
   "outputs": [
    {
     "name": "stdout",
     "output_type": "stream",
     "text": [
      "[2, 65, 89, 'sonali']\n"
     ]
    }
   ],
   "source": [
    "#ans=26\n",
    "tuple12=(2,65,89,'krina')\n",
    "list21=list(tuple12)\n",
    "list21.pop(-1)\n",
    "list21.append('sonali')\n",
    "print(list21)"
   ]
  },
  {
   "cell_type": "code",
   "execution_count": 27,
   "id": "ad07b0e8",
   "metadata": {},
   "outputs": [
    {
     "name": "stdout",
     "output_type": "stream",
     "text": [
      "{3, 4, 5, 6, 7}\n"
     ]
    }
   ],
   "source": [
    "#ans=27\n",
    "tuple13=(3,4,5,4,5,6,7)\n",
    "set1=set(tuple13)\n",
    "print(set1)"
   ]
  },
  {
   "cell_type": "code",
   "execution_count": null,
   "id": "792b5391",
   "metadata": {},
   "outputs": [],
   "source": [
    "#ans=28"
   ]
  },
  {
   "cell_type": "code",
   "execution_count": null,
   "id": "d5579893",
   "metadata": {},
   "outputs": [],
   "source": [
    "#ans=29"
   ]
  },
  {
   "cell_type": "code",
   "execution_count": 28,
   "id": "922c967b",
   "metadata": {},
   "outputs": [
    {
     "data": {
      "text/plain": [
       "{1: 3, 3: 4, 4: 6}"
      ]
     },
     "execution_count": 28,
     "metadata": {},
     "output_type": "execute_result"
    }
   ],
   "source": [
    "#ans=30\n",
    "tuple14=([1,3],[3,4],[4,6])\n",
    "dict(tuple14)"
   ]
  },
  {
   "cell_type": "code",
   "execution_count": null,
   "id": "7c925fb4",
   "metadata": {},
   "outputs": [],
   "source": [
    "#ans=31\n",
    "#use the dict() function to convert a tuple to a dictionary.\n",
    "#A key-value pair is contained in each tuple."
   ]
  },
  {
   "cell_type": "code",
   "execution_count": null,
   "id": "76b4affa",
   "metadata": {},
   "outputs": [],
   "source": [
    "#ANS=32"
   ]
  },
  {
   "cell_type": "code",
   "execution_count": 40,
   "id": "cea7daf7",
   "metadata": {},
   "outputs": [
    {
     "name": "stdout",
     "output_type": "stream",
     "text": [
      "desending order= {5: 10, 4: 8, 1: 3}\n",
      "ascending= {1: 3, 4: 8, 5: 10}\n"
     ]
    }
   ],
   "source": [
    "#ANS=33\n",
    "d7={1:3,4:8,5:10}\n",
    "dict10=dict11=list(d7.items())\n",
    "\n",
    "dict10.sort(reverse=True)\n",
    "print('desending order=',dict(dict10))\n",
    "dict11.sort()\n",
    "print('ascending=',dict(dict11))"
   ]
  },
  {
   "cell_type": "code",
   "execution_count": 32,
   "id": "b981f2c4",
   "metadata": {},
   "outputs": [
    {
     "name": "stdout",
     "output_type": "stream",
     "text": [
      "{1: 3, 4: 8, 5: 10, 'm': 'mily', 'k': 'krina'}\n"
     ]
    }
   ],
   "source": [
    "#ans=34\n",
    "dict1={1:3,4:8,5:10}\n",
    "dict4 = {'m':'mily','k':'krina'}\n",
    "dict1.update(dict4)\n",
    "print(dict1)"
   ]
  },
  {
   "cell_type": "code",
   "execution_count": 36,
   "id": "d434fc1e",
   "metadata": {},
   "outputs": [
    {
     "name": "stdout",
     "output_type": "stream",
     "text": [
      "key=k\n",
      "True\n"
     ]
    }
   ],
   "source": [
    "#ans=35\n",
    "dict5={'1':3,'4':8,'5':10,'m':'mily','k':'krina'}\n",
    "key=input('key=')\n",
    "if key in dict5:\n",
    "    print('True')\n",
    "else:\n",
    "    print('False')"
   ]
  },
  {
   "cell_type": "code",
   "execution_count": null,
   "id": "fb750b8b",
   "metadata": {},
   "outputs": [],
   "source": [
    "#ans=36"
   ]
  },
  {
   "cell_type": "code",
   "execution_count": 38,
   "id": "a0800a5b",
   "metadata": {},
   "outputs": [
    {
     "data": {
      "text/plain": [
       "dict_keys(['1', '4', '5', 'm', 'k'])"
      ]
     },
     "execution_count": 38,
     "metadata": {},
     "output_type": "execute_result"
    }
   ],
   "source": [
    "#ans=37\n",
    "dict6 = {'1':3,'4':8,'5':10,'m':'mily','k':'krina'}\n",
    "dict6.keys()"
   ]
  },
  {
   "cell_type": "code",
   "execution_count": null,
   "id": "35bdeeba",
   "metadata": {},
   "outputs": [],
   "source": [
    "#ans=38"
   ]
  },
  {
   "cell_type": "code",
   "execution_count": null,
   "id": "6b0883df",
   "metadata": {},
   "outputs": [],
   "source": [
    "#ans=39"
   ]
  },
  {
   "cell_type": "code",
   "execution_count": 39,
   "id": "99792f47",
   "metadata": {},
   "outputs": [
    {
     "name": "stdout",
     "output_type": "stream",
     "text": [
      "{1: 3, 4: 8, 5: 10, 'm': 'mily', 'k': 'krina'}\n"
     ]
    }
   ],
   "source": [
    "#ans=40\n",
    "dict1={1:3,4:8,5:10}\n",
    "dict4 = {'m':'mily','k':'krina'}\n",
    "dict1.update(dict4)\n",
    "print(dict1)"
   ]
  }
 ],
 "metadata": {
  "kernelspec": {
   "display_name": "Python 3 (ipykernel)",
   "language": "python",
   "name": "python3"
  },
  "language_info": {
   "codemirror_mode": {
    "name": "ipython",
    "version": 3
   },
   "file_extension": ".py",
   "mimetype": "text/x-python",
   "name": "python",
   "nbconvert_exporter": "python",
   "pygments_lexer": "ipython3",
   "version": "3.9.13"
  }
 },
 "nbformat": 4,
 "nbformat_minor": 5
}
