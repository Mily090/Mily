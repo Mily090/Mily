{
 "cells": [
  {
   "cell_type": "code",
   "execution_count": 1,
   "id": "e21e25fe",
   "metadata": {},
   "outputs": [
    {
     "name": "stdout",
     "output_type": "stream",
     "text": [
      "10\n",
      "55\n"
     ]
    }
   ],
   "source": [
    "# ANS 1 WRITE A  PYTHON PROGRAM TO SUM OF THE FIRST n POSITIVE INTEGER\n",
    "n = int(input())\n",
    "s = 0\n",
    "for i in range(1 , n+1):\n",
    "    s += i\n",
    "print(s)"
   ]
  },
  {
   "cell_type": "code",
   "execution_count": 2,
   "id": "52349360",
   "metadata": {},
   "outputs": [
    {
     "name": "stdout",
     "output_type": "stream",
     "text": [
      "enter the stringmilly krina milly milly milly krina\n",
      "enter the substringmilly\n",
      "4\n"
     ]
    }
   ],
   "source": [
    "# ANS 2 WRITE A  PYTHON PROGRAM TO COUNT OCCERRENCES OF A SUBSTRING IN A STRING \n",
    "str1 = input('enter the string')\n",
    "sub_string = input('enter the substring')\n",
    "ans1 = str1.count(sub_string)\n",
    "print(ans1)"
   ]
  },
  {
   "cell_type": "code",
   "execution_count": 3,
   "id": "08052238",
   "metadata": {},
   "outputs": [
    {
     "name": "stdout",
     "output_type": "stream",
     "text": [
      "enter the stringmilly milly krina krina\n",
      "[2, 2, 2, 2]\n"
     ]
    }
   ],
   "source": [
    "# ANS 3 WRITE A PYTHON PROGRAM TO COUNT THE OCCURRENCES OF EACH WORD IN A GIVEN SENTENCE\n",
    "str1 = input('enter the string')\n",
    "str2 = str1.split()\n",
    "a = []\n",
    "for i in str2:\n",
    "    ans1 = str1.count(i)\n",
    "    a += [ans1]\n",
    "print(a)    "
   ]
  },
  {
   "cell_type": "code",
   "execution_count": 4,
   "id": "a63042a3",
   "metadata": {},
   "outputs": [
    {
     "data": {
      "text/plain": [
       "'mipa lltel'"
      ]
     },
     "execution_count": 4,
     "metadata": {},
     "output_type": "execute_result"
    }
   ],
   "source": [
    "# ANS 4 WRITE A PYTHON PROGRAM TO GET A SINGLE STRING FROM TWO GIVEN STRING , SEPARATED BY A SPACE AND SWAP \n",
    "# THE FIRST TWO CHARACTER OF EACH STRING\n",
    "v1 = 'patel'\n",
    "v2 = 'milly'\n",
    "v2[0:2]+v1[0:2]+' '+v2[2:4]+v1[2:5]"
   ]
  },
  {
   "cell_type": "code",
   "execution_count": 6,
   "id": "217fee4f",
   "metadata": {},
   "outputs": [
    {
     "name": "stdout",
     "output_type": "stream",
     "text": [
      "lonely\n",
      "lonelying\n"
     ]
    }
   ],
   "source": [
    "# ANS 5 WRITE A PYTHON PROGRAM TO ADD 'ING' AT THE END OF GIVEN STRING(LENGTH SHOULD BE AT LEAST 3). IF THE GIVEN STRING \n",
    "# ALREADY ENDS WITH 'ING' THEN ADD 'LY' INSTEAD IF THE STRING LENGTH OF THE GIVEN STRING ID LESS THAN 3,LEAVE IT UNCHANGED.\n",
    "a = input()\n",
    "if len(a) >= 3:\n",
    "    if a.endswith('ing'):\n",
    "        print(a.replace('ing','ly'))\n",
    "    else:\n",
    "        print(a + 'ing')\n",
    "else:\n",
    "    print(a)"
   ]
  },
  {
   "cell_type": "code",
   "execution_count": 7,
   "id": "e5cb0a7d",
   "metadata": {},
   "outputs": [
    {
     "data": {
      "text/plain": [
       "' i am good person'"
      ]
     },
     "execution_count": 7,
     "metadata": {},
     "output_type": "execute_result"
    }
   ],
   "source": [
    "#ANS 6 WRITE A PYTHON PROGRAM TO FIND THE FIRST APPEARANCE OF THE SUBSTRING 'NOT' AND 'POOR' FROM A GIVEN STRING.IF 'NOT'\n",
    "# FOLLOWS THE 'POOR',REPLACE THE WHOLE 'NOT'...'POOR' SUBSTRING WITH 'GOOD'.\n",
    "\n",
    "str1 = ' i am not poor person'\n",
    "str1.replace('not poor','good')"
   ]
  },
  {
   "cell_type": "code",
   "execution_count": 8,
   "id": "1f1cf0a2",
   "metadata": {},
   "outputs": [
    {
     "name": "stdout",
     "output_type": "stream",
     "text": [
      "GCD of 98 and 56 is 14\n"
     ]
    }
   ],
   "source": [
    "# ANS 7 PROGRAM TO FIND GCD OF TWO NUMBERS.\n",
    "#FOR EXAMPLE , THE GCD OF 20 AND 28 IS 4 AND GCD OF 98 AND 56 IS 14 \n",
    "def gcd(a,b):\n",
    "    result = min(a,b)\n",
    "    while result:\n",
    "        if a % result == 0 and b % result == 0:\n",
    "            break\n",
    "        result -= 1\n",
    "    return result \n",
    "a = 98\n",
    "b = 56\n",
    "print(f\"GCD of {a} and {b} is {gcd(a,b)}\")"
   ]
  },
  {
   "cell_type": "code",
   "execution_count": 9,
   "id": "40531cd9",
   "metadata": {},
   "outputs": [
    {
     "name": "stdout",
     "output_type": "stream",
     "text": [
      "list is present\n"
     ]
    }
   ],
   "source": [
    "# ANS 8 WRITE A PYTHON PROGRAM TO CHECK WHETHER A LIST CONTAINS A SUB LIST\n",
    "list1 = [['csk'] , ['mi'] , ['rcb'] , ['gt']]\n",
    "list2 = ['csk']\n",
    "if list2 in list1:\n",
    "    print('list is present')\n",
    "else:\n",
    "    print('list is not present')"
   ]
  },
  {
   "cell_type": "code",
   "execution_count": 11,
   "id": "4916c3a9",
   "metadata": {},
   "outputs": [
    {
     "name": "stdout",
     "output_type": "stream",
     "text": [
      "200\n"
     ]
    }
   ],
   "source": [
    "# ANS 9 WRITE A PYTHON PROGRAM TO FIND A SECOND SMALLEST NUMBER IN A LIST\n",
    "list0 = [ '100' , '300' , '200' , '400' , '600' , '500' ]\n",
    "list0.sort()\n",
    "print(list0[1])"
   ]
  },
  {
   "cell_type": "code",
   "execution_count": 14,
   "id": "7881aa13",
   "metadata": {},
   "outputs": [
    {
     "name": "stdout",
     "output_type": "stream",
     "text": [
      "{0, 2, 3, 5, 6, 10, 11}\n"
     ]
    }
   ],
   "source": [
    "# ANS 10 WRITE A PYTHON PROGRAM TO GET UNIQUE VALUE FROM A LIST\n",
    "list11 = [0 , 11 ,2 , 0 , 3 , 5 , 6, 2 , 5 , 10 ]\n",
    "d = set(list11)\n",
    "print(d)"
   ]
  },
  {
   "cell_type": "code",
   "execution_count": 16,
   "id": "40517216",
   "metadata": {},
   "outputs": [
    {
     "data": {
      "text/plain": [
       "[(100, 200), (300, 400), (500, 600), (700, 800)]"
      ]
     },
     "execution_count": 16,
     "metadata": {},
     "output_type": "execute_result"
    }
   ],
   "source": [
    "# ANS 11 WRITE A PYTHON PROGRAM TO UNZIP A LIST OF TUPLES INTO INDIVIDUAL LISTS\n",
    "var1 = zip([100,300,500,700] , [200,400,600,800])\n",
    "list(var1)"
   ]
  },
  {
   "cell_type": "code",
   "execution_count": 18,
   "id": "683e0c7b",
   "metadata": {},
   "outputs": [
    {
     "data": {
      "text/plain": [
       "{11: 22, 33: 44, 44: 55}"
      ]
     },
     "execution_count": 18,
     "metadata": {},
     "output_type": "execute_result"
    }
   ],
   "source": [
    "# ANS 12 WRITE A PYTHON PROGRAM TO CONVERT LIST OF TUPLES INTO A DICTIONARY\n",
    "list12 = [(11,22) ,(33,44) ,(44,55)]\n",
    "dict(list12)"
   ]
  },
  {
   "cell_type": "code",
   "execution_count": 20,
   "id": "8da98643",
   "metadata": {},
   "outputs": [
    {
     "name": "stdout",
     "output_type": "stream",
     "text": [
      "ascending= {'hello': 23, 'hmm': 12, 'how': 1}\n",
      "descending= {'how': 1, 'hmm': 12, 'hello': 23}\n"
     ]
    }
   ],
   "source": [
    "# ANS 13 WRITE A PYTHON PROGRAM TO SORT A DICTIONARY (ASCENDING/DESCENDING) BY VALUE\n",
    "dict0 = { 'hmm' : 12 , 'hello' : 23 , 'how' : 1 }\n",
    "dict1 = dict2 = list(dict0.items())\n",
    "dict1.sort()\n",
    "print('ascending=' ,dict(dict1))\n",
    "dict2.sort(reverse = True)\n",
    "print('descending=' ,dict(dict2))"
   ]
  },
  {
   "cell_type": "code",
   "execution_count": 21,
   "id": "30f6c50a",
   "metadata": {},
   "outputs": [
    {
     "name": "stdout",
     "output_type": "stream",
     "text": [
      "[40, 30, 20]\n"
     ]
    }
   ],
   "source": [
    "# ANS 14 WRITE A PYTHON PROGRAM TO FIND THR HIGHEST 3 VALUES IN A DICTIONARY\n",
    "dict10 = {'ab' : 10 ,'bn' : 20, 'cg' : 30, 'da' : 40}\n",
    "ab = list(dict10.values())\n",
    "ab.sort(reverse=True)\n",
    "ab.pop()\n",
    "print(ab)"
   ]
  },
  {
   "cell_type": "code",
   "execution_count": 23,
   "id": "1b72e9db",
   "metadata": {},
   "outputs": [
    {
     "name": "stdout",
     "output_type": "stream",
     "text": [
      "8\n",
      "0 1 1 2 3 5 8 13 "
     ]
    }
   ],
   "source": [
    "# ANS 15 GIVEN A NUMBER N, WRITE A PYTHON PROGRAM TO MAKE AND PRINT A LIST OF FIBONACCI SERIES UP TO N.\n",
    "# INPUT:8\n",
    "# HINT: FIRST SEVEN NUMBER IN SERIES\n",
    "num = int(input())\n",
    "var1 = 0\n",
    "var2 = 1\n",
    "for i in range(num):\n",
    "    print(var1,end=' ')\n",
    "    var1,var2=var2,var1+var2\n"
   ]
  },
  {
   "cell_type": "code",
   "execution_count": 25,
   "id": "badd6eaf",
   "metadata": {},
   "outputs": [
    {
     "name": "stdout",
     "output_type": "stream",
     "text": [
      "{1: 5, 5: 2, 3: 3, 4: 3, 2: 4}\n"
     ]
    }
   ],
   "source": [
    "# ANS 16 COUNTING THE FREQUENCIES IN A LIST USING A DICTIONARY IN PYTHON.\n",
    "# INPUT: [1,1,1,5,5,3,1,3,3,1,4,4,4,2,2,2,2]\n",
    "# EXPECTED OUTPUT: 1:5 , 2:4 , 3:3 , 4:3 , 5:2\n",
    "mylist0 = [1,1,1,5,5,3,1,3,3,1,4,4,4,2,2,2,2]\n",
    "mydict0 = {}\n",
    "for element in mylist0:\n",
    "    if element in mydict0:\n",
    "        mydict0[element] += 1\n",
    "    else:\n",
    "        mydict0[element] = 1\n",
    "print(mydict0) "
   ]
  },
  {
   "cell_type": "code",
   "execution_count": 29,
   "id": "35c22447",
   "metadata": {},
   "outputs": [
    {
     "data": {
      "text/plain": [
       "24"
      ]
     },
     "execution_count": 29,
     "metadata": {},
     "output_type": "execute_result"
    }
   ],
   "source": [
    "# ANS 17 PYTHON PROGRAM TO FIND FACTORIAL OF NUMBER USING RECURSION\n",
    "def fun1(num):\n",
    "    if num == 1:\n",
    "        return 1\n",
    "    else:\n",
    "        return num *fun1(num-1)\n",
    "fun1(4)    "
   ]
  },
  {
   "cell_type": "code",
   "execution_count": 34,
   "id": "6394ea98",
   "metadata": {},
   "outputs": [
    {
     "name": "stdout",
     "output_type": "stream",
     "text": [
      "[1, 2, 3, 4, 5]\n"
     ]
    }
   ],
   "source": [
    "# ANS 18 WRITE A PYTHON FUNCTION THAT TAKES A LIST AND RETURN A NEW LIST WITH UNIQUE ELEMENTS OF THE FIRST LIST.\n",
    "def unique_list(list6):\n",
    "    list3 = []\n",
    "    for a in list6:\n",
    "        if a not in list3:\n",
    "            list3.append(a)\n",
    "    return list3\n",
    "print(unique_list([1 , 2 , 3, 3, 3 , 3 , 4 , 5 ]))"
   ]
  },
  {
   "cell_type": "code",
   "execution_count": null,
   "id": "4144a001",
   "metadata": {},
   "outputs": [],
   "source": []
  }
 ],
 "metadata": {
  "kernelspec": {
   "display_name": "Python 3 (ipykernel)",
   "language": "python",
   "name": "python3"
  },
  "language_info": {
   "codemirror_mode": {
    "name": "ipython",
    "version": 3
   },
   "file_extension": ".py",
   "mimetype": "text/x-python",
   "name": "python",
   "nbconvert_exporter": "python",
   "pygments_lexer": "ipython3",
   "version": "3.9.13"
  }
 },
 "nbformat": 4,
 "nbformat_minor": 5
}
